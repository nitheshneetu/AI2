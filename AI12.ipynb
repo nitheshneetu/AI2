{
 "cells": [
  {
   "cell_type": "code",
   "execution_count": 1,
   "id": "92262847",
   "metadata": {},
   "outputs": [],
   "source": [
    "import numpy as np"
   ]
  },
  {
   "cell_type": "code",
   "execution_count": 2,
   "id": "c7428a7c",
   "metadata": {},
   "outputs": [],
   "source": [
    "item_list = ['Bread','Milk','Eggs','Butter','Cocoa']"
   ]
  },
  {
   "cell_type": "code",
   "execution_count": 3,
   "id": "d4783d24",
   "metadata": {},
   "outputs": [],
   "source": [
    "Student_marks = [78,47,96,55,34]"
   ]
  },
  {
   "cell_type": "code",
   "execution_count": 4,
   "id": "fca96a7d",
   "metadata": {},
   "outputs": [],
   "source": [
    "hetero_list = [1,2,3,0,'text',True,3+2j]"
   ]
  },
  {
   "cell_type": "code",
   "execution_count": 5,
   "id": "921bfcad",
   "metadata": {},
   "outputs": [
    {
     "name": "stdout",
     "output_type": "stream",
     "text": [
      "[1, 2, 3, 0, 'text', True, (3+2j)]\n"
     ]
    }
   ],
   "source": [
    "print(hetero_list)"
   ]
  },
  {
   "cell_type": "code",
   "execution_count": null,
   "id": "1daf7292",
   "metadata": {},
   "outputs": [],
   "source": []
  }
 ],
 "metadata": {
  "kernelspec": {
   "display_name": "Python 3 (ipykernel)",
   "language": "python",
   "name": "python3"
  },
  "language_info": {
   "codemirror_mode": {
    "name": "ipython",
    "version": 3
   },
   "file_extension": ".py",
   "mimetype": "text/x-python",
   "name": "python",
   "nbconvert_exporter": "python",
   "pygments_lexer": "ipython3",
   "version": "3.11.4"
  }
 },
 "nbformat": 4,
 "nbformat_minor": 5
}
