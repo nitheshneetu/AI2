{
 "cells": [
  {
   "cell_type": "code",
   "execution_count": 1,
   "id": "32084cf4",
   "metadata": {},
   "outputs": [],
   "source": [
    "import numpy as np"
   ]
  },
  {
   "cell_type": "code",
   "execution_count": 2,
   "id": "6c1ef67a",
   "metadata": {},
   "outputs": [],
   "source": [
    "Student_marks_arr = np.array([78,33,55,66,88])"
   ]
  },
  {
   "cell_type": "code",
   "execution_count": 3,
   "id": "760f7268",
   "metadata": {},
   "outputs": [
    {
     "data": {
      "text/plain": [
       "array([78, 33, 55, 66, 88])"
      ]
     },
     "execution_count": 3,
     "metadata": {},
     "output_type": "execute_result"
    }
   ],
   "source": [
    "Student_marks_arr"
   ]
  },
  {
   "cell_type": "code",
   "execution_count": null,
   "id": "685eea8c",
   "metadata": {},
   "outputs": [],
   "source": []
  }
 ],
 "metadata": {
  "kernelspec": {
   "display_name": "Python 3 (ipykernel)",
   "language": "python",
   "name": "python3"
  },
  "language_info": {
   "codemirror_mode": {
    "name": "ipython",
    "version": 3
   },
   "file_extension": ".py",
   "mimetype": "text/x-python",
   "name": "python",
   "nbconvert_exporter": "python",
   "pygments_lexer": "ipython3",
   "version": "3.11.4"
  }
 },
 "nbformat": 4,
 "nbformat_minor": 5
}
