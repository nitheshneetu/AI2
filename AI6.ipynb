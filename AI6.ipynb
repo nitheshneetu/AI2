{
 "cells": [
  {
   "cell_type": "code",
   "execution_count": 1,
   "id": "01fc64b0",
   "metadata": {},
   "outputs": [],
   "source": [
    "import pandas as pd"
   ]
  },
  {
   "cell_type": "code",
   "execution_count": 2,
   "id": "25c56c15",
   "metadata": {},
   "outputs": [
    {
     "name": "stdout",
     "output_type": "stream",
     "text": [
      "   RollNo      Name      Adress  Marks\n",
      "0      56  Swasthik     Mundaje    100\n",
      "1      32   Nithesh  kethigudde    100\n",
      "2      33     Pawan      bntwal    100\n",
      "3      40  Preetham  ballamanja    100\n",
      "4       1    Ronith      bcroad    100\n"
     ]
    }
   ],
   "source": [
    "data = {\n",
    "    'RollNo' :[56,32,33,40,1],\n",
    "    'Name' :['Swasthik','Nithesh','Pawan','Preetham','Ronith'],\n",
    "    'Adress' :['Mundaje','kethigudde','bntwal','ballamanja','bcroad'],\n",
    "    'Marks' :[100,100,100,100,100]\n",
    "}\n",
    "df = pd.DataFrame(data)\n",
    "print(df)\n",
    "    "
   ]
  },
  {
   "cell_type": "code",
   "execution_count": null,
   "id": "30bbc7f6",
   "metadata": {},
   "outputs": [],
   "source": []
  }
 ],
 "metadata": {
  "kernelspec": {
   "display_name": "Python 3 (ipykernel)",
   "language": "python",
   "name": "python3"
  },
  "language_info": {
   "codemirror_mode": {
    "name": "ipython",
    "version": 3
   },
   "file_extension": ".py",
   "mimetype": "text/x-python",
   "name": "python",
   "nbconvert_exporter": "python",
   "pygments_lexer": "ipython3",
   "version": "3.11.4"
  }
 },
 "nbformat": 4,
 "nbformat_minor": 5
}
