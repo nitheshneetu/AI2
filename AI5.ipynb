{
 "cells": [
  {
   "cell_type": "code",
   "execution_count": 1,
   "id": "0c068fee",
   "metadata": {},
   "outputs": [],
   "source": [
    "import pandas as pd"
   ]
  },
  {
   "cell_type": "code",
   "execution_count": 2,
   "id": "cd3d6f6e",
   "metadata": {},
   "outputs": [
    {
     "name": "stdout",
     "output_type": "stream",
     "text": [
      "   Empno     Ename Qualification Subject\n",
      "0    101  Swasthik            BE      Cs\n",
      "1    102   Nithesh       Diploma      Ec\n",
      "2    103     Pawan          Bcom    Mech\n",
      "3    104  Preetham           Mse      Cs\n",
      "4    105    Ronith           IAS      Ai\n"
     ]
    }
   ],
   "source": [
    "data = {\n",
    "    'Empno' :[101,102,103,104,105],\n",
    "    'Ename' :['Swasthik','Nithesh','Pawan','Preetham','Ronith'],\n",
    "    'Qualification' :['BE','Diploma','Bcom','Mse','IAS'],\n",
    "    'Subject' :['Cs','Ec','Mech','Cs','Ai']\n",
    "}\n",
    "df = pd.DataFrame(data)\n",
    "print(df)"
   ]
  },
  {
   "cell_type": "code",
   "execution_count": null,
   "id": "52d8d462",
   "metadata": {},
   "outputs": [],
   "source": []
  }
 ],
 "metadata": {
  "kernelspec": {
   "display_name": "Python 3 (ipykernel)",
   "language": "python",
   "name": "python3"
  },
  "language_info": {
   "codemirror_mode": {
    "name": "ipython",
    "version": 3
   },
   "file_extension": ".py",
   "mimetype": "text/x-python",
   "name": "python",
   "nbconvert_exporter": "python",
   "pygments_lexer": "ipython3",
   "version": "3.11.4"
  }
 },
 "nbformat": 4,
 "nbformat_minor": 5
}
