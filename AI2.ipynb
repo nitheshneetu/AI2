{
 "cells": [
  {
   "cell_type": "code",
   "execution_count": 1,
   "id": "c184c9b2",
   "metadata": {},
   "outputs": [],
   "source": [
    "import pandas as pd\n",
    "import numpy as np"
   ]
  },
  {
   "cell_type": "code",
   "execution_count": 6,
   "id": "560f3845",
   "metadata": {},
   "outputs": [],
   "source": [
    "Series_A = pd.Series([10,20,30,40,50])\n",
    "Series_B = pd.Series([40,50,60,70,80])"
   ]
  },
  {
   "cell_type": "code",
   "execution_count": 7,
   "id": "f6ccd670",
   "metadata": {},
   "outputs": [],
   "source": [
    "intersect = np.intersect1d(Series_A,Series_B)\n",
    "union = pd.Series(np.union1d(Series_A,Series_B))\n",
    "notcommonseries = union[~union.isin(intersect)]\n"
   ]
  },
  {
   "cell_type": "code",
   "execution_count": 8,
   "id": "4de15223",
   "metadata": {},
   "outputs": [
    {
     "name": "stdout",
     "output_type": "stream",
     "text": [
      "10\n"
     ]
    }
   ],
   "source": [
    "print(min(Series_A))"
   ]
  },
  {
   "cell_type": "code",
   "execution_count": 10,
   "id": "f587bee4",
   "metadata": {},
   "outputs": [
    {
     "name": "stdout",
     "output_type": "stream",
     "text": [
      "50\n"
     ]
    }
   ],
   "source": [
    "print(max(Series_A))"
   ]
  },
  {
   "cell_type": "code",
   "execution_count": 11,
   "id": "a43ec7be",
   "metadata": {},
   "outputs": [
    {
     "name": "stdout",
     "output_type": "stream",
     "text": [
      "300\n"
     ]
    }
   ],
   "source": [
    "print(sum(Series_B))"
   ]
  },
  {
   "cell_type": "code",
   "execution_count": 12,
   "id": "90212fb2",
   "metadata": {},
   "outputs": [
    {
     "name": "stdout",
     "output_type": "stream",
     "text": [
      "30.0\n"
     ]
    }
   ],
   "source": [
    "print(np.mean(Series_A))"
   ]
  },
  {
   "cell_type": "code",
   "execution_count": 14,
   "id": "e1757d52",
   "metadata": {},
   "outputs": [
    {
     "name": "stdout",
     "output_type": "stream",
     "text": [
      "60.0\n"
     ]
    }
   ],
   "source": [
    "print(np.median(Series_B))"
   ]
  },
  {
   "cell_type": "code",
   "execution_count": null,
   "id": "ae2ae669",
   "metadata": {},
   "outputs": [],
   "source": []
  }
 ],
 "metadata": {
  "kernelspec": {
   "display_name": "Python 3 (ipykernel)",
   "language": "python",
   "name": "python3"
  },
  "language_info": {
   "codemirror_mode": {
    "name": "ipython",
    "version": 3
   },
   "file_extension": ".py",
   "mimetype": "text/x-python",
   "name": "python",
   "nbconvert_exporter": "python",
   "pygments_lexer": "ipython3",
   "version": "3.11.4"
  }
 },
 "nbformat": 4,
 "nbformat_minor": 5
}
