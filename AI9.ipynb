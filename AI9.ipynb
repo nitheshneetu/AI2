{
 "cells": [
  {
   "cell_type": "code",
   "execution_count": 1,
   "id": "8b3d4ed7",
   "metadata": {},
   "outputs": [],
   "source": [
    "import numpy as np"
   ]
  },
  {
   "cell_type": "code",
   "execution_count": 2,
   "id": "ffb27908",
   "metadata": {},
   "outputs": [],
   "source": [
    "Car_attributes = [[10,23,45,65,12],[231,231,212,432,323],[345,342,344,543,453]]"
   ]
  },
  {
   "cell_type": "code",
   "execution_count": 4,
   "id": "0e23c88c",
   "metadata": {},
   "outputs": [],
   "source": [
    "Car_attributes_arr = np.array(Car_attributes,dtype = 'float')"
   ]
  },
  {
   "cell_type": "code",
   "execution_count": 5,
   "id": "ff9b53f6",
   "metadata": {},
   "outputs": [
    {
     "name": "stdout",
     "output_type": "stream",
     "text": [
      "[[ 10.  23.  45.  65.  12.]\n",
      " [231. 231. 212. 432. 323.]\n",
      " [345. 342. 344. 543. 453.]]\n"
     ]
    }
   ],
   "source": [
    "print(Car_attributes_arr)"
   ]
  },
  {
   "cell_type": "code",
   "execution_count": 6,
   "id": "c3e8eaa5",
   "metadata": {},
   "outputs": [
    {
     "name": "stdout",
     "output_type": "stream",
     "text": [
      "float64\n"
     ]
    }
   ],
   "source": [
    "print(Car_attributes_arr.dtype)"
   ]
  },
  {
   "cell_type": "code",
   "execution_count": null,
   "id": "bd6a20d2",
   "metadata": {},
   "outputs": [],
   "source": []
  }
 ],
 "metadata": {
  "kernelspec": {
   "display_name": "Python 3 (ipykernel)",
   "language": "python",
   "name": "python3"
  },
  "language_info": {
   "codemirror_mode": {
    "name": "ipython",
    "version": 3
   },
   "file_extension": ".py",
   "mimetype": "text/x-python",
   "name": "python",
   "nbconvert_exporter": "python",
   "pygments_lexer": "ipython3",
   "version": "3.11.4"
  }
 },
 "nbformat": 4,
 "nbformat_minor": 5
}
