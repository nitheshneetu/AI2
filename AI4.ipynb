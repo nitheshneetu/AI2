{
 "cells": [
  {
   "cell_type": "code",
   "execution_count": 1,
   "id": "4016191e",
   "metadata": {},
   "outputs": [],
   "source": [
    "import pandas as pd"
   ]
  },
  {
   "cell_type": "code",
   "execution_count": 13,
   "id": "ad54dfc6",
   "metadata": {},
   "outputs": [],
   "source": [
    "names = pd.Series(['Alice','Bob','Charlie','David','Eve'])\n",
    "ages = pd.Series([29,32,29,45,30])\n",
    "cities = pd.Series(['New York','San Francisco','Los Angels','chicago','Miami'])"
   ]
  },
  {
   "cell_type": "code",
   "execution_count": 15,
   "id": "b62357e0",
   "metadata": {},
   "outputs": [
    {
     "name": "stdout",
     "output_type": "stream",
     "text": [
      "      Name  Age           City\n",
      "0    Alice   29       New York\n",
      "1      Bob   32  San Francisco\n",
      "2  Charlie   29     Los Angels\n",
      "3    David   45        chicago\n",
      "4      Eve   30          Miami\n"
     ]
    }
   ],
   "source": [
    "data = {\n",
    "    'Name'  :names,\n",
    "    'Age' :ages,\n",
    "    'City' :cities\n",
    "}\n",
    "df = pd.DataFrame(data)\n",
    "print(df)\n"
   ]
  },
  {
   "cell_type": "code",
   "execution_count": null,
   "id": "7ae8f7ce",
   "metadata": {},
   "outputs": [],
   "source": []
  }
 ],
 "metadata": {
  "kernelspec": {
   "display_name": "Python 3 (ipykernel)",
   "language": "python",
   "name": "python3"
  },
  "language_info": {
   "codemirror_mode": {
    "name": "ipython",
    "version": 3
   },
   "file_extension": ".py",
   "mimetype": "text/x-python",
   "name": "python",
   "nbconvert_exporter": "python",
   "pygments_lexer": "ipython3",
   "version": "3.11.4"
  }
 },
 "nbformat": 4,
 "nbformat_minor": 5
}
