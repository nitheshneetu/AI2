{
 "cells": [
  {
   "cell_type": "code",
   "execution_count": 1,
   "id": "36a5b933",
   "metadata": {},
   "outputs": [],
   "source": [
    "import pandas as pd"
   ]
  },
  {
   "cell_type": "code",
   "execution_count": 3,
   "id": "a7a20e95",
   "metadata": {},
   "outputs": [],
   "source": [
    "data ={\n",
    "    'Name'  : ['Alice','Bob','Charlie','David','Eve'],\n",
    "    'Age' : [29,32,29,45,30],\n",
    "    'City' : ['New York','San Francisco','Los Angels','chicago','Miami']\n",
    "}"
   ]
  },
  {
   "cell_type": "code",
   "execution_count": 4,
   "id": "6acd10d7",
   "metadata": {},
   "outputs": [],
   "source": [
    "df = pd.DataFrame(data)"
   ]
  },
  {
   "cell_type": "code",
   "execution_count": 5,
   "id": "c8e98d51",
   "metadata": {},
   "outputs": [
    {
     "name": "stdout",
     "output_type": "stream",
     "text": [
      "      Name  Age           City\n",
      "0    Alice   29       New York\n",
      "1      Bob   32  San Francisco\n",
      "2  Charlie   29     Los Angels\n",
      "3    David   45        chicago\n",
      "4      Eve   30          Miami\n"
     ]
    }
   ],
   "source": [
    "print(df)"
   ]
  },
  {
   "cell_type": "code",
   "execution_count": null,
   "id": "7eab261d",
   "metadata": {},
   "outputs": [],
   "source": []
  }
 ],
 "metadata": {
  "kernelspec": {
   "display_name": "Python 3 (ipykernel)",
   "language": "python",
   "name": "python3"
  },
  "language_info": {
   "codemirror_mode": {
    "name": "ipython",
    "version": 3
   },
   "file_extension": ".py",
   "mimetype": "text/x-python",
   "name": "python",
   "nbconvert_exporter": "python",
   "pygments_lexer": "ipython3",
   "version": "3.11.4"
  }
 },
 "nbformat": 4,
 "nbformat_minor": 5
}
