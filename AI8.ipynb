{
 "cells": [
  {
   "cell_type": "code",
   "execution_count": 1,
   "id": "11197822",
   "metadata": {},
   "outputs": [],
   "source": [
    "import numpy as np"
   ]
  },
  {
   "cell_type": "code",
   "execution_count": 3,
   "id": "7631440f",
   "metadata": {},
   "outputs": [],
   "source": [
    "Car_attributes = [[10,23,45,65,12],[231,231,212,432,323],[345,342,344,543,453]]"
   ]
  },
  {
   "cell_type": "code",
   "execution_count": 4,
   "id": "afc9acf9",
   "metadata": {},
   "outputs": [
    {
     "data": {
      "text/plain": [
       "[[10, 23, 45, 65, 12], [231, 231, 212, 432, 323], [345, 342, 344, 543, 453]]"
      ]
     },
     "execution_count": 4,
     "metadata": {},
     "output_type": "execute_result"
    }
   ],
   "source": [
    "Car_attributes"
   ]
  },
  {
   "cell_type": "code",
   "execution_count": null,
   "id": "14c5ae89",
   "metadata": {},
   "outputs": [],
   "source": []
  },
  {
   "cell_type": "code",
   "execution_count": null,
   "id": "e711f936",
   "metadata": {},
   "outputs": [],
   "source": []
  }
 ],
 "metadata": {
  "kernelspec": {
   "display_name": "Python 3 (ipykernel)",
   "language": "python",
   "name": "python3"
  },
  "language_info": {
   "codemirror_mode": {
    "name": "ipython",
    "version": 3
   },
   "file_extension": ".py",
   "mimetype": "text/x-python",
   "name": "python",
   "nbconvert_exporter": "python",
   "pygments_lexer": "ipython3",
   "version": "3.11.4"
  }
 },
 "nbformat": 4,
 "nbformat_minor": 5
}
