{
 "cells": [
  {
   "cell_type": "code",
   "execution_count": 1,
   "id": "e5f06a8f",
   "metadata": {},
   "outputs": [],
   "source": [
    "import numpy as np\n"
   ]
  },
  {
   "cell_type": "code",
   "execution_count": 2,
   "id": "b1a7e798",
   "metadata": {},
   "outputs": [],
   "source": [
    "car_names = ['maruthi','honda','jupiter','shine']"
   ]
  },
  {
   "cell_type": "code",
   "execution_count": 7,
   "id": "7f4d6f05",
   "metadata": {},
   "outputs": [],
   "source": [
    "horsepower = [130,213,212,112]"
   ]
  },
  {
   "cell_type": "code",
   "execution_count": 8,
   "id": "95686343",
   "metadata": {},
   "outputs": [],
   "source": [
    "car_hp_arr = np.array([car_names,horsepower])"
   ]
  },
  {
   "cell_type": "code",
   "execution_count": 10,
   "id": "16e72be7",
   "metadata": {},
   "outputs": [
    {
     "data": {
      "text/plain": [
       "array([['maruthi', 'honda', 'jupiter', 'shine'],\n",
       "       ['130', '213', '212', '112']], dtype='<U11')"
      ]
     },
     "execution_count": 10,
     "metadata": {},
     "output_type": "execute_result"
    }
   ],
   "source": [
    "car_hp_arr"
   ]
  },
  {
   "cell_type": "code",
   "execution_count": 11,
   "id": "e458d236",
   "metadata": {},
   "outputs": [
    {
     "data": {
      "text/plain": [
       "array(['maruthi', 'honda', 'jupiter', 'shine'], dtype='<U11')"
      ]
     },
     "execution_count": 11,
     "metadata": {},
     "output_type": "execute_result"
    }
   ],
   "source": [
    "car_hp_arr[0]"
   ]
  },
  {
   "cell_type": "code",
   "execution_count": 12,
   "id": "10a62c90",
   "metadata": {},
   "outputs": [
    {
     "data": {
      "text/plain": [
       "array(['130', '213', '212', '112'], dtype='<U11')"
      ]
     },
     "execution_count": 12,
     "metadata": {},
     "output_type": "execute_result"
    }
   ],
   "source": [
    "car_hp_arr[1]"
   ]
  },
  {
   "cell_type": "code",
   "execution_count": null,
   "id": "d1e463a0",
   "metadata": {},
   "outputs": [],
   "source": []
  }
 ],
 "metadata": {
  "kernelspec": {
   "display_name": "Python 3 (ipykernel)",
   "language": "python",
   "name": "python3"
  },
  "language_info": {
   "codemirror_mode": {
    "name": "ipython",
    "version": 3
   },
   "file_extension": ".py",
   "mimetype": "text/x-python",
   "name": "python",
   "nbconvert_exporter": "python",
   "pygments_lexer": "ipython3",
   "version": "3.11.4"
  }
 },
 "nbformat": 4,
 "nbformat_minor": 5
}
