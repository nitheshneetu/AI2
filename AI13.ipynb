{
 "cells": [
  {
   "cell_type": "code",
   "execution_count": 1,
   "id": "fd3023d7",
   "metadata": {},
   "outputs": [],
   "source": [
    "import numpy as np"
   ]
  },
  {
   "cell_type": "code",
   "execution_count": 2,
   "id": "7a4b5248",
   "metadata": {},
   "outputs": [],
   "source": [
    "student_marks = [78,47,96,55,34]"
   ]
  },
  {
   "cell_type": "code",
   "execution_count": 4,
   "id": "12b40966",
   "metadata": {},
   "outputs": [],
   "source": [
    "for i in range (len(student_marks)):\n",
    "    student_marks[i]+=5"
   ]
  },
  {
   "cell_type": "code",
   "execution_count": 5,
   "id": "77926941",
   "metadata": {},
   "outputs": [
    {
     "name": "stdout",
     "output_type": "stream",
     "text": [
      "[83, 52, 101, 60, 39]\n"
     ]
    }
   ],
   "source": [
    "print(student_marks)"
   ]
  },
  {
   "cell_type": "code",
   "execution_count": null,
   "id": "91eada58",
   "metadata": {},
   "outputs": [],
   "source": []
  }
 ],
 "metadata": {
  "kernelspec": {
   "display_name": "Python 3 (ipykernel)",
   "language": "python",
   "name": "python3"
  },
  "language_info": {
   "codemirror_mode": {
    "name": "ipython",
    "version": 3
   },
   "file_extension": ".py",
   "mimetype": "text/x-python",
   "name": "python",
   "nbconvert_exporter": "python",
   "pygments_lexer": "ipython3",
   "version": "3.11.4"
  }
 },
 "nbformat": 4,
 "nbformat_minor": 5
}
